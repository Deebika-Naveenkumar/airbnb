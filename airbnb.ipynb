{
 "cells": [
  {
   "cell_type": "code",
   "execution_count": null,
   "id": "f77700c8-52f6-44ba-af51-5070058cc756",
   "metadata": {},
   "outputs": [],
   "source": [
    "pip install pandas"
   ]
  },
  {
   "cell_type": "code",
   "execution_count": 1,
   "id": "cff64990-4298-4234-aae0-3fb6d3377fb1",
   "metadata": {},
   "outputs": [],
   "source": [
    "import pandas as pd"
   ]
  },
  {
   "cell_type": "code",
   "execution_count": 2,
   "id": "b4c001b3-0cc7-4e95-9bb4-4740af18939f",
   "metadata": {},
   "outputs": [],
   "source": [
    "df = pd.read_json(\"file_path.json\")"
   ]
  },
  {
   "cell_type": "code",
   "execution_count": 4,
   "id": "ed2cb47c-6663-4373-9af0-50f6a47964aa",
   "metadata": {},
   "outputs": [],
   "source": [
    "# splitting host dictionary key to get each value as separate column\n",
    "df['host_id'] = df['host'].apply(lambda i:i['host_id'])\n",
    "df['host_name'] = df['host'].apply(lambda i:i['host_name'])\n",
    "df['host_location'] = df['host'].apply(lambda i:i['host_location'])\n",
    "df['host_neighbourhood'] = df['host'].apply(lambda i:i['host_neighbourhood'])\n",
    "df['host_is_superhost'] = df['host'].apply(lambda i:i['host_is_superhost'])\n",
    "df['host_listings_count'] = df['host'].apply(lambda i:i['host_listings_count'])\n",
    "df['host_verifications'] = df['host'].apply(lambda i:i['host_verifications'])\n"
   ]
  },
  {
   "cell_type": "code",
   "execution_count": 5,
   "id": "bee51309-f49e-4021-9a8f-a27dd48059e3",
   "metadata": {},
   "outputs": [],
   "source": [
    "# splitting address dictionary key to get each value as separate column\n",
    "df['street'] = df['address'].apply(lambda i:i['street'])\n",
    "df['suburb'] = df['address'].apply(lambda i:i['suburb'])\n",
    "df['government_area'] = df['address'].apply(lambda i:i['government_area'])\n",
    "df['market'] = df['address'].apply(lambda i:i['market'])\n",
    "df['country'] = df['address'].apply(lambda i:i['country'])\n",
    "df['country_code'] = df['address'].apply(lambda i:i['country_code'])\n",
    "df['latitude'] = df['address'].apply(lambda i:i['location']['coordinates'][1])\n",
    "df['longitude'] = df['address'].apply(lambda i:i['location']['coordinates'][0])\n",
    "df['is_location_exact'] = df['address'].apply(lambda i:i['location']['is_location_exact'])\n"
   ]
  },
  {
   "cell_type": "code",
   "execution_count": 6,
   "id": "e97bfbbc-1377-45e7-969d-e8cd28ca937d",
   "metadata": {},
   "outputs": [],
   "source": [
    "# splitting availability dictionary key to get each value as separate column\n",
    "df['availability_30'] = df['availability'].apply(lambda i:i['availability_30'])\n",
    "df['availability_60'] = df['availability'].apply(lambda i:i['availability_60'])\n",
    "df['availability_90'] = df['availability'].apply(lambda i:i['availability_90'])\n",
    "df['availability_365'] = df['availability'].apply(lambda i:i['availability_365'])"
   ]
  },
  {
   "cell_type": "code",
   "execution_count": 7,
   "id": "57af9e73-6658-4486-b63f-6ec00896236d",
   "metadata": {},
   "outputs": [],
   "source": [
    "df['review_scores'] = df['review_scores'].apply(lambda i: i.get('review_scores_rating', 0) if i else 0)"
   ]
  },
  {
   "cell_type": "code",
   "execution_count": 8,
   "id": "538fe5df-a727-4029-9879-3f177c49d9d4",
   "metadata": {},
   "outputs": [
    {
     "data": {
      "text/plain": [
       "array(['New York', 'Istanbul', 'Hong Kong', 'Sydney', 'Porto',\n",
       "       'Rio De Janeiro', 'Montreal', 'Barcelona', 'Oahu',\n",
       "       'The Big Island', 'Maui', 'Kauai', 'Others', 'Other (Domestic)',\n",
       "       'Other (International)'], dtype=object)"
      ]
     },
     "execution_count": 8,
     "metadata": {},
     "output_type": "execute_result"
    }
   ],
   "source": [
    "# filling nullvalues\n",
    "df[\"market\"] = df['market'].apply(lambda i:i if i else \"Others\")\n",
    "df[\"market\"].unique()"
   ]
  },
  {
   "cell_type": "code",
   "execution_count": 9,
   "id": "ab7493e1-e08b-40c1-8861-e5f20488553b",
   "metadata": {},
   "outputs": [
    {
     "data": {
      "text/plain": [
       "Index(['_id', 'listing_url', 'name', 'summary', 'space', 'description',\n",
       "       'neighborhood_overview', 'notes', 'transit', 'access', 'interaction',\n",
       "       'house_rules', 'property_type', 'room_type', 'bed_type',\n",
       "       'minimum_nights', 'maximum_nights', 'cancellation_policy',\n",
       "       'last_scraped', 'calendar_last_scraped', 'first_review', 'last_review',\n",
       "       'accommodates', 'bedrooms', 'beds', 'number_of_reviews', 'bathrooms',\n",
       "       'amenities', 'price', 'security_deposit', 'cleaning_fee',\n",
       "       'extra_people', 'guests_included', 'images', 'host', 'address',\n",
       "       'availability', 'review_scores', 'reviews', 'weekly_price',\n",
       "       'monthly_price', 'reviews_per_month', 'host_id', 'host_name',\n",
       "       'host_location', 'host_neighbourhood', 'host_is_superhost',\n",
       "       'host_listings_count', 'host_verifications', 'street', 'suburb',\n",
       "       'government_area', 'market', 'country', 'country_code', 'latitude',\n",
       "       'longitude', 'is_location_exact', 'availability_30', 'availability_60',\n",
       "       'availability_90', 'availability_365'],\n",
       "      dtype='object')"
      ]
     },
     "execution_count": 9,
     "metadata": {},
     "output_type": "execute_result"
    }
   ],
   "source": [
    "pd.set_option(\"display.max_columns\",None)\n",
    "df.head()\n",
    "df.columns"
   ]
  },
  {
   "cell_type": "code",
   "execution_count": 10,
   "id": "09f11e37-1b50-40ea-9fca-6cd8bc06b607",
   "metadata": {},
   "outputs": [],
   "source": [
    "# dropping the unnecessary columns\n",
    "df.drop(columns = ['listing_url', 'name', 'summary', 'space', 'description',\n",
    "       'neighborhood_overview', 'notes', 'transit', 'access', 'interaction',\n",
    "       'house_rules', 'minimum_nights', 'maximum_nights',\n",
    "       'last_scraped', 'calendar_last_scraped', 'first_review', 'last_review',\n",
    "       'accommodates', 'bedrooms', 'beds', 'bathrooms',\n",
    "       'amenities', 'security_deposit', 'cleaning_fee',\n",
    "       'extra_people', 'guests_included', 'images', 'host', 'address','reviews',\n",
    "       'availability', 'weekly_price','monthly_price', 'reviews_per_month', 'host_is_superhost',\n",
    "       'host_listings_count', 'host_verifications'],axis=1,inplace=True)"
   ]
  },
  {
   "cell_type": "code",
   "execution_count": 11,
   "id": "a8b0e3c2-423e-44fa-b2e6-44498ee1aec3",
   "metadata": {},
   "outputs": [
    {
     "data": {
      "text/plain": [
       "(5555, 25)"
      ]
     },
     "execution_count": 11,
     "metadata": {},
     "output_type": "execute_result"
    }
   ],
   "source": [
    "df.shape"
   ]
  },
  {
   "cell_type": "code",
   "execution_count": 12,
   "id": "de85e792-cded-4135-874e-5d4897f60359",
   "metadata": {},
   "outputs": [
    {
     "data": {
      "text/plain": [
       "_id                    0\n",
       "property_type          0\n",
       "room_type              0\n",
       "bed_type               0\n",
       "cancellation_policy    0\n",
       "number_of_reviews      0\n",
       "price                  0\n",
       "review_scores          0\n",
       "host_id                0\n",
       "host_name              0\n",
       "host_location          0\n",
       "host_neighbourhood     0\n",
       "street                 0\n",
       "suburb                 0\n",
       "government_area        0\n",
       "market                 0\n",
       "country                0\n",
       "country_code           0\n",
       "latitude               0\n",
       "longitude              0\n",
       "is_location_exact      0\n",
       "availability_30        0\n",
       "availability_60        0\n",
       "availability_90        0\n",
       "availability_365       0\n",
       "dtype: int64"
      ]
     },
     "execution_count": 12,
     "metadata": {},
     "output_type": "execute_result"
    }
   ],
   "source": [
    "df.isna().sum()"
   ]
  },
  {
   "cell_type": "code",
   "execution_count": 13,
   "id": "e473d23d-f180-4a7b-847c-cf04525a9a95",
   "metadata": {},
   "outputs": [],
   "source": [
    "# filling null values\n",
    "df['host_neighbourhood'] = df['host_neighbourhood'].apply(lambda i: str(i) if i else 'Not Specified')"
   ]
  },
  {
   "cell_type": "code",
   "execution_count": 14,
   "id": "7f3a663e-9313-4df8-85f7-2b33824cdcfc",
   "metadata": {},
   "outputs": [
    {
     "data": {
      "text/plain": [
       "Index(['_id', 'property_type', 'room_type', 'bed_type', 'cancellation_policy',\n",
       "       'number_of_reviews', 'price', 'review_scores', 'host_id', 'host_name',\n",
       "       'host_location', 'host_neighbourhood', 'street', 'suburb',\n",
       "       'government_area', 'market', 'country', 'country_code', 'latitude',\n",
       "       'longitude', 'is_location_exact', 'availability_30', 'availability_60',\n",
       "       'availability_90', 'availability_365'],\n",
       "      dtype='object')"
      ]
     },
     "execution_count": 14,
     "metadata": {},
     "output_type": "execute_result"
    }
   ],
   "source": [
    "df.columns"
   ]
  },
  {
   "cell_type": "code",
   "execution_count": 15,
   "id": "ebf35e68-3c7a-4aec-a8bf-5c4821a72aa1",
   "metadata": {},
   "outputs": [
    {
     "data": {
      "text/plain": [
       "np.int64(0)"
      ]
     },
     "execution_count": 15,
     "metadata": {},
     "output_type": "execute_result"
    }
   ],
   "source": [
    "# checking for duplicates\n",
    "df.duplicated().sum()"
   ]
  },
  {
   "cell_type": "code",
   "execution_count": 16,
   "id": "af5bf4c3-1141-4089-b0d4-f0772ae4bc69",
   "metadata": {},
   "outputs": [
    {
     "data": {
      "text/plain": [
       "_id                      int64\n",
       "property_type           object\n",
       "room_type               object\n",
       "bed_type                object\n",
       "cancellation_policy     object\n",
       "number_of_reviews        int64\n",
       "price                    int64\n",
       "review_scores            int64\n",
       "host_id                 object\n",
       "host_name               object\n",
       "host_location           object\n",
       "host_neighbourhood      object\n",
       "street                  object\n",
       "suburb                  object\n",
       "government_area         object\n",
       "market                  object\n",
       "country                 object\n",
       "country_code            object\n",
       "latitude               float64\n",
       "longitude              float64\n",
       "is_location_exact         bool\n",
       "availability_30          int64\n",
       "availability_60          int64\n",
       "availability_90          int64\n",
       "availability_365         int64\n",
       "dtype: object"
      ]
     },
     "execution_count": 16,
     "metadata": {},
     "output_type": "execute_result"
    }
   ],
   "source": [
    "df.dtypes"
   ]
  },
  {
   "cell_type": "code",
   "execution_count": 17,
   "id": "64fa5976-da9b-4323-ba01-41d7d1b2419f",
   "metadata": {},
   "outputs": [],
   "source": [
    "# Mapping\n",
    "df['is_location_exact'] = df['is_location_exact'].map({False:'No',True:'Yes'})\n"
   ]
  },
  {
   "cell_type": "code",
   "execution_count": 18,
   "id": "9f3ccfce-1693-41df-9487-b09354ad283c",
   "metadata": {},
   "outputs": [],
   "source": [
    "# converting to csv file\n",
    "df.to_csv('Airbnb.csv',index=False)"
   ]
  },
  {
   "cell_type": "code",
   "execution_count": 19,
   "id": "7f1ed5f6-b9d1-4c91-95c5-1c3cb3989949",
   "metadata": {},
   "outputs": [
    {
     "name": "stderr",
     "output_type": "stream",
     "text": [
      "<>:1: SyntaxWarning: invalid escape sequence '\\J'\n",
      "<>:1: SyntaxWarning: invalid escape sequence '\\J'\n",
      "C:\\Users\\Admin\\AppData\\Local\\Temp\\ipykernel_18164\\2803361700.py:1: SyntaxWarning: invalid escape sequence '\\J'\n",
      "  df = pd.read_csv(\"D:\\Jupyter\\Airbnb.csv\")\n"
     ]
    },
    {
     "data": {
      "text/plain": [
       "_id                      int64\n",
       "property_type           object\n",
       "room_type               object\n",
       "bed_type                object\n",
       "cancellation_policy     object\n",
       "number_of_reviews        int64\n",
       "price                    int64\n",
       "review_scores            int64\n",
       "host_id                  int64\n",
       "host_name               object\n",
       "host_location           object\n",
       "host_neighbourhood      object\n",
       "street                  object\n",
       "suburb                  object\n",
       "government_area         object\n",
       "market                  object\n",
       "country                 object\n",
       "country_code            object\n",
       "latitude               float64\n",
       "longitude              float64\n",
       "is_location_exact       object\n",
       "availability_30          int64\n",
       "availability_60          int64\n",
       "availability_90          int64\n",
       "availability_365         int64\n",
       "dtype: object"
      ]
     },
     "execution_count": 19,
     "metadata": {},
     "output_type": "execute_result"
    }
   ],
   "source": [
    "df = pd.read_csv(\"D:\\Jupyter\\Airbnb.csv\")\n",
    "df.dtypes"
   ]
  },
  {
   "cell_type": "code",
   "execution_count": 20,
   "id": "71f2a39c-f307-460e-b2e7-f477e323746f",
   "metadata": {},
   "outputs": [
    {
     "data": {
      "text/plain": [
       "array(['New York', 'Istanbul', 'Hong Kong', 'Sydney', 'Porto',\n",
       "       'Rio De Janeiro', 'Montreal', 'Barcelona', 'Oahu',\n",
       "       'The Big Island', 'Maui', 'Kauai', 'Others', 'Other (Domestic)',\n",
       "       'Other (International)'], dtype=object)"
      ]
     },
     "execution_count": 20,
     "metadata": {},
     "output_type": "execute_result"
    }
   ],
   "source": [
    "df[\"market\"].unique()"
   ]
  },
  {
   "cell_type": "code",
   "execution_count": null,
   "id": "4cc1914a-01a3-4c44-9066-838dc06e52d0",
   "metadata": {},
   "outputs": [],
   "source": []
  },
  {
   "cell_type": "code",
   "execution_count": null,
   "id": "398827e3-4321-4e06-b4ff-35a8eba2d942",
   "metadata": {},
   "outputs": [],
   "source": []
  },
  {
   "cell_type": "code",
   "execution_count": null,
   "id": "ea3aa60f-e9fa-47f3-92e1-20d6b9f28d04",
   "metadata": {},
   "outputs": [],
   "source": []
  }
 ],
 "metadata": {
  "kernelspec": {
   "display_name": "Python 3 (ipykernel)",
   "language": "python",
   "name": "python3"
  },
  "language_info": {
   "codemirror_mode": {
    "name": "ipython",
    "version": 3
   },
   "file_extension": ".py",
   "mimetype": "text/x-python",
   "name": "python",
   "nbconvert_exporter": "python",
   "pygments_lexer": "ipython3",
   "version": "3.12.4"
  }
 },
 "nbformat": 4,
 "nbformat_minor": 5
}
