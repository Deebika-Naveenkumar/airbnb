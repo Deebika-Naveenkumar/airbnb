{
 "cells": [
  {
   "cell_type": "code",
   "execution_count": 4,
   "id": "f77700c8-52f6-44ba-af51-5070058cc756",
   "metadata": {},
   "outputs": [
    {
     "name": "stdout",
     "output_type": "stream",
     "text": [
      "Note: you may need to restart the kernel to use updated packages.Requirement already satisfied: pandas in c:\\users\\admin\\appdata\\local\\programs\\python\\python312\\lib\\site-packages (2.2.2)\n",
      "Requirement already satisfied: numpy>=1.26.0 in c:\\users\\admin\\appdata\\local\\programs\\python\\python312\\lib\\site-packages (from pandas) (2.0.0)\n",
      "Requirement already satisfied: python-dateutil>=2.8.2 in c:\\users\\admin\\appdata\\local\\programs\\python\\python312\\lib\\site-packages (from pandas) (2.9.0.post0)\n",
      "Requirement already satisfied: pytz>=2020.1 in c:\\users\\admin\\appdata\\local\\programs\\python\\python312\\lib\\site-packages (from pandas) (2024.1)\n",
      "Requirement already satisfied: tzdata>=2022.7 in c:\\users\\admin\\appdata\\local\\programs\\python\\python312\\lib\\site-packages (from pandas) (2024.1)\n",
      "Requirement already satisfied: six>=1.5 in c:\\users\\admin\\appdata\\local\\programs\\python\\python312\\lib\\site-packages (from python-dateutil>=2.8.2->pandas) (1.16.0)\n",
      "\n"
     ]
    },
    {
     "name": "stderr",
     "output_type": "stream",
     "text": [
      "\n",
      "[notice] A new release of pip is available: 24.0 -> 24.1.2\n",
      "[notice] To update, run: python.exe -m pip install --upgrade pip\n"
     ]
    }
   ],
   "source": [
    "pip install pandas"
   ]
  },
  {
   "cell_type": "code",
   "execution_count": 1,
   "id": "cff64990-4298-4234-aae0-3fb6d3377fb1",
   "metadata": {},
   "outputs": [],
   "source": [
    "import pandas as pd"
   ]
  },
  {
   "cell_type": "code",
   "execution_count": 2,
   "id": "b4c001b3-0cc7-4e95-9bb4-4740af18939f",
   "metadata": {},
   "outputs": [],
   "source": [
    "df = pd.read_json(\"D:/Deebi/sample_airbnb.json\")"
   ]
  },
  {
   "cell_type": "code",
   "execution_count": 3,
   "id": "9ece9f2e-5666-401c-8a20-70335c1b9900",
   "metadata": {
    "scrolled": true
   },
   "outputs": [
    {
     "data": {
      "text/plain": [
       "(5555, 42)"
      ]
     },
     "execution_count": 3,
     "metadata": {},
     "output_type": "execute_result"
    }
   ],
   "source": [
    "df.shape\n"
   ]
  },
  {
   "cell_type": "code",
   "execution_count": 4,
   "id": "bd1a430f-a26c-4b36-8b9d-4b1d90d16ad9",
   "metadata": {},
   "outputs": [],
   "source": [
    "df['images'] = df['images'].apply(lambda i:i['picture_url'])"
   ]
  },
  {
   "cell_type": "code",
   "execution_count": 5,
   "id": "ed2cb47c-6663-4373-9af0-50f6a47964aa",
   "metadata": {},
   "outputs": [],
   "source": [
    "df['host_id'] = df['host'].apply(lambda i:i['host_id'])\n",
    "df['host_name'] = df['host'].apply(lambda i:i['host_name'])\n",
    "df['host_location'] = df['host'].apply(lambda i:i['host_location'])\n",
    "df['host_neighbourhood'] = df['host'].apply(lambda i:i['host_neighbourhood'])\n",
    "df['host_is_superhost'] = df['host'].apply(lambda i:i['host_is_superhost'])\n",
    "df['host_listings_count'] = df['host'].apply(lambda i:i['host_listings_count'])\n",
    "df['host_verifications'] = df['host'].apply(lambda i:i['host_verifications'])\n"
   ]
  },
  {
   "cell_type": "code",
   "execution_count": 6,
   "id": "bee51309-f49e-4021-9a8f-a27dd48059e3",
   "metadata": {},
   "outputs": [],
   "source": [
    "df['street'] = df['address'].apply(lambda i:i['street'])\n",
    "df['suburb'] = df['address'].apply(lambda i:i['suburb'])\n",
    "df['government_area'] = df['address'].apply(lambda i:i['government_area'])\n",
    "df['market'] = df['address'].apply(lambda i:i['market'])\n",
    "df['country'] = df['address'].apply(lambda i:i['country'])\n",
    "df['country_code'] = df['address'].apply(lambda i:i['country_code'])\n",
    "df['latitude'] = df['address'].apply(lambda i:i['location']['coordinates'][0])\n",
    "df['longitude'] = df['address'].apply(lambda i:i['location']['coordinates'][1])\n",
    "df['is_location_exact'] = df['address'].apply(lambda i:i['location']['is_location_exact'])\n"
   ]
  },
  {
   "cell_type": "code",
   "execution_count": 7,
   "id": "e97bfbbc-1377-45e7-969d-e8cd28ca937d",
   "metadata": {},
   "outputs": [],
   "source": [
    "df['availability_30'] = df['availability'].apply(lambda i:i['availability_30'])\n",
    "df['availability_60'] = df['availability'].apply(lambda i:i['availability_60'])\n",
    "df['availability_90'] = df['availability'].apply(lambda i:i['availability_90'])\n",
    "df['availability_365'] = df['availability'].apply(lambda i:i['availability_365'])"
   ]
  },
  {
   "cell_type": "code",
   "execution_count": 8,
   "id": "57af9e73-6658-4486-b63f-6ec00896236d",
   "metadata": {},
   "outputs": [],
   "source": [
    "df['review_scores'] = df['review_scores'].apply(lambda i: i.get('review_scores_rating', 0) if i else 0)"
   ]
  },
  {
   "cell_type": "code",
   "execution_count": 9,
   "id": "538fe5df-a727-4029-9879-3f177c49d9d4",
   "metadata": {},
   "outputs": [
    {
     "data": {
      "text/plain": [
       "array(['New York', 'Istanbul', 'Hong Kong', 'Sydney', 'Porto',\n",
       "       'Rio De Janeiro', 'Montreal', 'Barcelona', 'Oahu',\n",
       "       'The Big Island', 'Maui', 'Kauai', 'Others', 'Other (Domestic)',\n",
       "       'Other (International)'], dtype=object)"
      ]
     },
     "execution_count": 9,
     "metadata": {},
     "output_type": "execute_result"
    }
   ],
   "source": [
    "df[\"market\"] = df['market'].apply(lambda i:i if i else \"Others\")\n",
    "df[\"market\"].unique()"
   ]
  },
  {
   "cell_type": "code",
   "execution_count": 10,
   "id": "ab7493e1-e08b-40c1-8861-e5f20488553b",
   "metadata": {},
   "outputs": [
    {
     "data": {
      "text/plain": [
       "Index(['_id', 'listing_url', 'name', 'summary', 'space', 'description',\n",
       "       'neighborhood_overview', 'notes', 'transit', 'access', 'interaction',\n",
       "       'house_rules', 'property_type', 'room_type', 'bed_type',\n",
       "       'minimum_nights', 'maximum_nights', 'cancellation_policy',\n",
       "       'last_scraped', 'calendar_last_scraped', 'first_review', 'last_review',\n",
       "       'accommodates', 'bedrooms', 'beds', 'number_of_reviews', 'bathrooms',\n",
       "       'amenities', 'price', 'security_deposit', 'cleaning_fee',\n",
       "       'extra_people', 'guests_included', 'images', 'host', 'address',\n",
       "       'availability', 'review_scores', 'reviews', 'weekly_price',\n",
       "       'monthly_price', 'reviews_per_month', 'host_id', 'host_name',\n",
       "       'host_location', 'host_neighbourhood', 'host_is_superhost',\n",
       "       'host_listings_count', 'host_verifications', 'street', 'suburb',\n",
       "       'government_area', 'market', 'country', 'country_code', 'latitude',\n",
       "       'longitude', 'is_location_exact', 'availability_30', 'availability_60',\n",
       "       'availability_90', 'availability_365'],\n",
       "      dtype='object')"
      ]
     },
     "execution_count": 10,
     "metadata": {},
     "output_type": "execute_result"
    }
   ],
   "source": [
    "pd.set_option(\"display.max_columns\",None)\n",
    "df.head()\n",
    "df.columns"
   ]
  },
  {
   "cell_type": "code",
   "execution_count": 11,
   "id": "09f11e37-1b50-40ea-9fca-6cd8bc06b607",
   "metadata": {},
   "outputs": [],
   "source": [
    "df.drop(columns = ['summary', 'space', 'description',\n",
    "       'neighborhood_overview', 'notes', 'transit', 'access', 'interaction','house_rules','last_scraped', 'calendar_last_scraped', 'first_review', 'last_review','host', 'address',\n",
    "       'availability','reviews', 'weekly_price','monthly_price', 'reviews_per_month','security_deposit'],axis=1,inplace=True)"
   ]
  },
  {
   "cell_type": "code",
   "execution_count": 12,
   "id": "a8b0e3c2-423e-44fa-b2e6-44498ee1aec3",
   "metadata": {},
   "outputs": [
    {
     "data": {
      "text/plain": [
       "_id                       0\n",
       "listing_url               0\n",
       "name                      0\n",
       "property_type             0\n",
       "room_type                 0\n",
       "bed_type                  0\n",
       "minimum_nights            0\n",
       "maximum_nights            0\n",
       "cancellation_policy       0\n",
       "accommodates              0\n",
       "bedrooms                  5\n",
       "beds                     13\n",
       "number_of_reviews         0\n",
       "bathrooms                10\n",
       "amenities                 0\n",
       "price                     0\n",
       "cleaning_fee           1531\n",
       "extra_people              0\n",
       "guests_included           0\n",
       "images                    0\n",
       "review_scores             0\n",
       "host_id                   0\n",
       "host_name                 0\n",
       "host_location             0\n",
       "host_neighbourhood        0\n",
       "host_is_superhost         0\n",
       "host_listings_count       0\n",
       "host_verifications        0\n",
       "street                    0\n",
       "suburb                    0\n",
       "government_area           0\n",
       "market                    0\n",
       "country                   0\n",
       "country_code              0\n",
       "latitude                  0\n",
       "longitude                 0\n",
       "is_location_exact         0\n",
       "availability_30           0\n",
       "availability_60           0\n",
       "availability_90           0\n",
       "availability_365          0\n",
       "dtype: int64"
      ]
     },
     "execution_count": 12,
     "metadata": {},
     "output_type": "execute_result"
    }
   ],
   "source": [
    "df.isna().sum()"
   ]
  },
  {
   "cell_type": "code",
   "execution_count": 13,
   "id": "5bb93f87-4d3f-416f-bb17-65d2c108640d",
   "metadata": {},
   "outputs": [
    {
     "name": "stderr",
     "output_type": "stream",
     "text": [
      "C:\\Users\\Admin\\AppData\\Local\\Temp\\ipykernel_17032\\463633209.py:1: FutureWarning: A value is trying to be set on a copy of a DataFrame or Series through chained assignment using an inplace method.\n",
      "The behavior will change in pandas 3.0. This inplace method will never work because the intermediate object on which we are setting values always behaves as a copy.\n",
      "\n",
      "For example, when doing 'df[col].method(value, inplace=True)', try using 'df.method({col: value}, inplace=True)' or df[col] = df[col].method(value) instead, to perform the operation inplace on the original object.\n",
      "\n",
      "\n",
      "  df['bedrooms'].fillna(0, inplace=True)\n",
      "C:\\Users\\Admin\\AppData\\Local\\Temp\\ipykernel_17032\\463633209.py:2: FutureWarning: A value is trying to be set on a copy of a DataFrame or Series through chained assignment using an inplace method.\n",
      "The behavior will change in pandas 3.0. This inplace method will never work because the intermediate object on which we are setting values always behaves as a copy.\n",
      "\n",
      "For example, when doing 'df[col].method(value, inplace=True)', try using 'df.method({col: value}, inplace=True)' or df[col] = df[col].method(value) instead, to perform the operation inplace on the original object.\n",
      "\n",
      "\n",
      "  df['beds'].fillna(0, inplace=True)\n",
      "C:\\Users\\Admin\\AppData\\Local\\Temp\\ipykernel_17032\\463633209.py:3: FutureWarning: A value is trying to be set on a copy of a DataFrame or Series through chained assignment using an inplace method.\n",
      "The behavior will change in pandas 3.0. This inplace method will never work because the intermediate object on which we are setting values always behaves as a copy.\n",
      "\n",
      "For example, when doing 'df[col].method(value, inplace=True)', try using 'df.method({col: value}, inplace=True)' or df[col] = df[col].method(value) instead, to perform the operation inplace on the original object.\n",
      "\n",
      "\n",
      "  df['bathrooms'].fillna(0, inplace=True)\n",
      "C:\\Users\\Admin\\AppData\\Local\\Temp\\ipykernel_17032\\463633209.py:4: FutureWarning: A value is trying to be set on a copy of a DataFrame or Series through chained assignment using an inplace method.\n",
      "The behavior will change in pandas 3.0. This inplace method will never work because the intermediate object on which we are setting values always behaves as a copy.\n",
      "\n",
      "For example, when doing 'df[col].method(value, inplace=True)', try using 'df.method({col: value}, inplace=True)' or df[col] = df[col].method(value) instead, to perform the operation inplace on the original object.\n",
      "\n",
      "\n",
      "  df['cleaning_fee'].fillna('Not Specified', inplace=True)\n",
      "C:\\Users\\Admin\\AppData\\Local\\Temp\\ipykernel_17032\\463633209.py:4: FutureWarning: Setting an item of incompatible dtype is deprecated and will raise an error in a future version of pandas. Value 'Not Specified' has dtype incompatible with float64, please explicitly cast to a compatible dtype first.\n",
      "  df['cleaning_fee'].fillna('Not Specified', inplace=True)\n"
     ]
    }
   ],
   "source": [
    "df['bedrooms'].fillna(0, inplace=True)\n",
    "df['beds'].fillna(0, inplace=True)\n",
    "df['bathrooms'].fillna(0, inplace=True)\n",
    "df['cleaning_fee'].fillna('Not Specified', inplace=True)"
   ]
  },
  {
   "cell_type": "code",
   "execution_count": 14,
   "id": "de85e792-cded-4135-874e-5d4897f60359",
   "metadata": {},
   "outputs": [
    {
     "data": {
      "text/plain": [
       "_id                    0\n",
       "listing_url            0\n",
       "name                   0\n",
       "property_type          0\n",
       "room_type              0\n",
       "bed_type               0\n",
       "minimum_nights         0\n",
       "maximum_nights         0\n",
       "cancellation_policy    0\n",
       "accommodates           0\n",
       "bedrooms               0\n",
       "beds                   0\n",
       "number_of_reviews      0\n",
       "bathrooms              0\n",
       "amenities              0\n",
       "price                  0\n",
       "cleaning_fee           0\n",
       "extra_people           0\n",
       "guests_included        0\n",
       "images                 0\n",
       "review_scores          0\n",
       "host_id                0\n",
       "host_name              0\n",
       "host_location          0\n",
       "host_neighbourhood     0\n",
       "host_is_superhost      0\n",
       "host_listings_count    0\n",
       "host_verifications     0\n",
       "street                 0\n",
       "suburb                 0\n",
       "government_area        0\n",
       "market                 0\n",
       "country                0\n",
       "country_code           0\n",
       "latitude               0\n",
       "longitude              0\n",
       "is_location_exact      0\n",
       "availability_30        0\n",
       "availability_60        0\n",
       "availability_90        0\n",
       "availability_365       0\n",
       "dtype: int64"
      ]
     },
     "execution_count": 14,
     "metadata": {},
     "output_type": "execute_result"
    }
   ],
   "source": [
    "df.isna().sum()"
   ]
  },
  {
   "cell_type": "code",
   "execution_count": 15,
   "id": "e473d23d-f180-4a7b-847c-cf04525a9a95",
   "metadata": {},
   "outputs": [],
   "source": [
    "df['amenities'] = df['amenities'].apply(lambda i: str(i) if i else 'None')\n",
    "df['host_verifications'] = df['host_verifications'].apply(lambda i: str(i) if i else 'None')\n",
    "df['host_neighbourhood'] = df['host_neighbourhood'].apply(lambda i: str(i) if i else 'Not Specified')"
   ]
  },
  {
   "cell_type": "code",
   "execution_count": 16,
   "id": "ebf35e68-3c7a-4aec-a8bf-5c4821a72aa1",
   "metadata": {},
   "outputs": [
    {
     "data": {
      "text/plain": [
       "np.int64(0)"
      ]
     },
     "execution_count": 16,
     "metadata": {},
     "output_type": "execute_result"
    }
   ],
   "source": [
    "df.duplicated().sum()"
   ]
  },
  {
   "cell_type": "code",
   "execution_count": 17,
   "id": "af5bf4c3-1141-4089-b0d4-f0772ae4bc69",
   "metadata": {},
   "outputs": [
    {
     "data": {
      "text/plain": [
       "_id                      int64\n",
       "listing_url             object\n",
       "name                    object\n",
       "property_type           object\n",
       "room_type               object\n",
       "bed_type                object\n",
       "minimum_nights           int64\n",
       "maximum_nights           int64\n",
       "cancellation_policy     object\n",
       "accommodates             int64\n",
       "bedrooms               float64\n",
       "beds                   float64\n",
       "number_of_reviews        int64\n",
       "bathrooms              float64\n",
       "amenities               object\n",
       "price                    int64\n",
       "cleaning_fee            object\n",
       "extra_people             int64\n",
       "guests_included          int64\n",
       "images                  object\n",
       "review_scores            int64\n",
       "host_id                 object\n",
       "host_name               object\n",
       "host_location           object\n",
       "host_neighbourhood      object\n",
       "host_is_superhost         bool\n",
       "host_listings_count      int64\n",
       "host_verifications      object\n",
       "street                  object\n",
       "suburb                  object\n",
       "government_area         object\n",
       "market                  object\n",
       "country                 object\n",
       "country_code            object\n",
       "latitude               float64\n",
       "longitude              float64\n",
       "is_location_exact         bool\n",
       "availability_30          int64\n",
       "availability_60          int64\n",
       "availability_90          int64\n",
       "availability_365         int64\n",
       "dtype: object"
      ]
     },
     "execution_count": 17,
     "metadata": {},
     "output_type": "execute_result"
    }
   ],
   "source": [
    "df.dtypes"
   ]
  },
  {
   "cell_type": "code",
   "execution_count": 18,
   "id": "64fa5976-da9b-4323-ba01-41d7d1b2419f",
   "metadata": {},
   "outputs": [],
   "source": [
    "df['host_is_superhost'] = df['host_is_superhost'].map({False:'No',True:'Yes'})\n",
    "\n",
    "df['bedrooms'] = df['bedrooms'].astype(int)\n",
    "df['beds'] = df['beds'].astype(int)\n",
    "df['review_scores'] = df['review_scores'].astype(int)\n",
    "df['is_location_exact'] = df['is_location_exact'].map({False:'No',True:'Yes'})\n"
   ]
  },
  {
   "cell_type": "code",
   "execution_count": 20,
   "id": "9f3ccfce-1693-41df-9487-b09354ad283c",
   "metadata": {},
   "outputs": [],
   "source": [
    "df.to_csv('Airbnb.csv',index=False)"
   ]
  },
  {
   "cell_type": "code",
   "execution_count": 21,
   "id": "bc34d201-6445-4445-b18a-f75f7cd40568",
   "metadata": {},
   "outputs": [
    {
     "data": {
      "text/plain": [
       "array(['United States', 'Turkey', 'Hong Kong', 'Australia', 'Portugal',\n",
       "       'Brazil', 'Canada', 'Spain', 'China'], dtype=object)"
      ]
     },
     "execution_count": 21,
     "metadata": {},
     "output_type": "execute_result"
    }
   ],
   "source": [
    "df[\"country\"].unique()"
   ]
  },
  {
   "cell_type": "code",
   "execution_count": 22,
   "id": "f3f1d68e-e669-4dce-b86a-0e72cfd8a555",
   "metadata": {},
   "outputs": [
    {
     "data": {
      "text/plain": [
       "Index(['_id', 'listing_url', 'name', 'property_type', 'room_type', 'bed_type',\n",
       "       'minimum_nights', 'maximum_nights', 'cancellation_policy',\n",
       "       'accommodates', 'bedrooms', 'beds', 'number_of_reviews', 'bathrooms',\n",
       "       'amenities', 'price', 'cleaning_fee', 'extra_people', 'guests_included',\n",
       "       'images', 'review_scores', 'host_id', 'host_name', 'host_location',\n",
       "       'host_neighbourhood', 'host_is_superhost', 'host_listings_count',\n",
       "       'host_verifications', 'street', 'suburb', 'government_area', 'market',\n",
       "       'country', 'country_code', 'latitude', 'longitude', 'is_location_exact',\n",
       "       'availability_30', 'availability_60', 'availability_90',\n",
       "       'availability_365'],\n",
       "      dtype='object')"
      ]
     },
     "execution_count": 22,
     "metadata": {},
     "output_type": "execute_result"
    }
   ],
   "source": [
    "df.columns"
   ]
  },
  {
   "cell_type": "code",
   "execution_count": 23,
   "id": "dca3a57a-736b-497e-be07-1bd323f1717d",
   "metadata": {},
   "outputs": [
    {
     "data": {
      "text/plain": [
       "_id                    337\n",
       "listing_url            337\n",
       "name                   337\n",
       "property_type          337\n",
       "room_type              337\n",
       "bed_type               337\n",
       "minimum_nights         337\n",
       "maximum_nights         337\n",
       "cancellation_policy    337\n",
       "accommodates           337\n",
       "bedrooms               337\n",
       "beds                   337\n",
       "number_of_reviews      337\n",
       "bathrooms              337\n",
       "amenities              337\n",
       "price                  337\n",
       "cleaning_fee           337\n",
       "extra_people           337\n",
       "guests_included        337\n",
       "images                 337\n",
       "review_scores          337\n",
       "host_id                337\n",
       "host_name              337\n",
       "host_location          337\n",
       "host_neighbourhood     337\n",
       "host_is_superhost      337\n",
       "host_listings_count    337\n",
       "host_verifications     337\n",
       "street                 337\n",
       "suburb                 337\n",
       "government_area        337\n",
       "market                 337\n",
       "country                337\n",
       "country_code           337\n",
       "latitude               337\n",
       "longitude              337\n",
       "is_location_exact      337\n",
       "availability_30        337\n",
       "availability_60        337\n",
       "availability_90        337\n",
       "availability_365       337\n",
       "dtype: int64"
      ]
     },
     "execution_count": 23,
     "metadata": {},
     "output_type": "execute_result"
    }
   ],
   "source": [
    "dd = {}\n",
    "filtered_data = df[(df[\"country\"] == \"United States\") & (df[\"market\"] == \"New York\")]\n",
    "filtered_data1 = filtered_data[filtered_data[\"availability_30\"] != 0]\n",
    "filtered_data1.count()\n"
   ]
  },
  {
   "cell_type": "code",
   "execution_count": null,
   "id": "6abada28-07d8-4931-944e-59ba5973dcb7",
   "metadata": {},
   "outputs": [],
   "source": [
    "!pip install streamlit"
   ]
  },
  {
   "cell_type": "code",
   "execution_count": 25,
   "id": "d6b867ef-95bb-473c-98fa-ccdb37fd7985",
   "metadata": {},
   "outputs": [
    {
     "name": "stdout",
     "output_type": "stream",
     "text": [
      "Streamlit, version 1.36.0\n"
     ]
    }
   ],
   "source": [
    "!streamlit --version"
   ]
  },
  {
   "cell_type": "code",
   "execution_count": 59,
   "id": "b764736a-ffe4-4435-94c5-b530f3cd7438",
   "metadata": {},
   "outputs": [
    {
     "data": {
      "text/plain": [
       "{'availability_30': np.int64(337),\n",
       " 'availability_60': np.int64(358),\n",
       " 'availability_90': np.int64(373),\n",
       " 'availability_365': np.int64(398)}"
      ]
     },
     "execution_count": 59,
     "metadata": {},
     "output_type": "execute_result"
    }
   ],
   "source": [
    "availability_data  = {}\n",
    "df_1 = df[(df['country'] == \"United States\") & (df['market'] == \"New York\")]\n",
    "\n",
    "df_availability_30 = df_1[df_1[\"availability_30\"]!=0]\n",
    "df_availability_60 = df_1[df_1[\"availability_60\"]!=0]\n",
    "df_availability_90 = df_1[df_1[\"availability_90\"]!=0]\n",
    "df_availability_365 = df_1[df_1[\"availability_365\"]!=0]\n",
    "\n",
    "availability_data [\"availability_30\"]=df_availability_30[\"availability_30\"].count()\n",
    "availability_data [\"availability_60\"]=df_availability_60[\"availability_60\"].count()\n",
    "availability_data [\"availability_90\"]=df_availability_90[\"availability_90\"].count()\n",
    "availability_data [\"availability_365\"]=df_availability_365[\"availability_365\"].count()\n",
    "availability_data "
   ]
  },
  {
   "cell_type": "code",
   "execution_count": 60,
   "id": "d2f263ae-939f-4579-8820-01c5a58d8fc7",
   "metadata": {},
   "outputs": [
    {
     "data": {
      "text/plain": [
       "array(['Apartment', 'Bed and breakfast', 'Guesthouse', 'Hostel',\n",
       "       'Serviced apartment', 'Loft', 'House', 'Condominium', 'Treehouse',\n",
       "       'Guest suite', 'Bungalow', 'Townhouse', 'Villa', 'Cabin', 'Other',\n",
       "       'Farm stay', 'Chalet', 'Boutique hotel', 'Cottage', 'Boat',\n",
       "       'Earth house', 'Aparthotel', 'Resort', 'Tiny house',\n",
       "       'Nature lodge', 'Hotel', 'Camper/RV', 'Casa particular (Cuba)',\n",
       "       'Barn', 'Hut', 'Heritage hotel (India)', 'Pension (South Korea)',\n",
       "       'Campsite', 'Castle', 'Houseboat', 'Train'], dtype=object)"
      ]
     },
     "execution_count": 60,
     "metadata": {},
     "output_type": "execute_result"
    }
   ],
   "source": [
    "df[\"property_type\"].unique()"
   ]
  },
  {
   "cell_type": "code",
   "execution_count": 65,
   "id": "1c9e82a6-aad2-4818-9070-96076a3c6029",
   "metadata": {},
   "outputs": [
    {
     "data": {
      "text/html": [
       "<div>\n",
       "<style scoped>\n",
       "    .dataframe tbody tr th:only-of-type {\n",
       "        vertical-align: middle;\n",
       "    }\n",
       "\n",
       "    .dataframe tbody tr th {\n",
       "        vertical-align: top;\n",
       "    }\n",
       "\n",
       "    .dataframe thead th {\n",
       "        text-align: right;\n",
       "    }\n",
       "</style>\n",
       "<table border=\"1\" class=\"dataframe\">\n",
       "  <thead>\n",
       "    <tr style=\"text-align: right;\">\n",
       "      <th></th>\n",
       "      <th>property_type</th>\n",
       "      <th>_id</th>\n",
       "    </tr>\n",
       "  </thead>\n",
       "  <tbody>\n",
       "    <tr>\n",
       "      <th>0</th>\n",
       "      <td>Aparthotel</td>\n",
       "      <td>1</td>\n",
       "    </tr>\n",
       "    <tr>\n",
       "      <th>1</th>\n",
       "      <td>Apartment</td>\n",
       "      <td>489</td>\n",
       "    </tr>\n",
       "    <tr>\n",
       "      <th>2</th>\n",
       "      <td>Condominium</td>\n",
       "      <td>19</td>\n",
       "    </tr>\n",
       "    <tr>\n",
       "      <th>3</th>\n",
       "      <td>Guest suite</td>\n",
       "      <td>2</td>\n",
       "    </tr>\n",
       "    <tr>\n",
       "      <th>4</th>\n",
       "      <td>Guesthouse</td>\n",
       "      <td>2</td>\n",
       "    </tr>\n",
       "    <tr>\n",
       "      <th>5</th>\n",
       "      <td>Hostel</td>\n",
       "      <td>1</td>\n",
       "    </tr>\n",
       "    <tr>\n",
       "      <th>6</th>\n",
       "      <td>House</td>\n",
       "      <td>47</td>\n",
       "    </tr>\n",
       "    <tr>\n",
       "      <th>7</th>\n",
       "      <td>Loft</td>\n",
       "      <td>19</td>\n",
       "    </tr>\n",
       "    <tr>\n",
       "      <th>8</th>\n",
       "      <td>Other</td>\n",
       "      <td>1</td>\n",
       "    </tr>\n",
       "    <tr>\n",
       "      <th>9</th>\n",
       "      <td>Serviced apartment</td>\n",
       "      <td>1</td>\n",
       "    </tr>\n",
       "    <tr>\n",
       "      <th>10</th>\n",
       "      <td>Townhouse</td>\n",
       "      <td>24</td>\n",
       "    </tr>\n",
       "    <tr>\n",
       "      <th>11</th>\n",
       "      <td>Villa</td>\n",
       "      <td>1</td>\n",
       "    </tr>\n",
       "  </tbody>\n",
       "</table>\n",
       "</div>"
      ],
      "text/plain": [
       "         property_type  _id\n",
       "0           Aparthotel    1\n",
       "1            Apartment  489\n",
       "2          Condominium   19\n",
       "3          Guest suite    2\n",
       "4           Guesthouse    2\n",
       "5               Hostel    1\n",
       "6                House   47\n",
       "7                 Loft   19\n",
       "8                Other    1\n",
       "9   Serviced apartment    1\n",
       "10           Townhouse   24\n",
       "11               Villa    1"
      ]
     },
     "execution_count": 65,
     "metadata": {},
     "output_type": "execute_result"
    }
   ],
   "source": [
    "df_1 = df[(df['country'] == \"United States\") & (df['market'] == \"New York\")]\n",
    "df_1.groupby(\"property_type\")[[\"_id\"]].count().reset_index()"
   ]
  }
 ],
 "metadata": {
  "kernelspec": {
   "display_name": "Python 3 (ipykernel)",
   "language": "python",
   "name": "python3"
  },
  "language_info": {
   "codemirror_mode": {
    "name": "ipython",
    "version": 3
   },
   "file_extension": ".py",
   "mimetype": "text/x-python",
   "name": "python",
   "nbconvert_exporter": "python",
   "pygments_lexer": "ipython3",
   "version": "3.12.4"
  }
 },
 "nbformat": 4,
 "nbformat_minor": 5
}
